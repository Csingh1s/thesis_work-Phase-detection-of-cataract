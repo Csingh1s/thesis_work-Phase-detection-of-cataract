{
 "cells": [
  {
   "cell_type": "code",
   "execution_count": 1,
   "id": "f67ede64",
   "metadata": {},
   "outputs": [
    {
     "ename": "KeyboardInterrupt",
     "evalue": "",
     "output_type": "error",
     "traceback": [
      "\u001b[1;31m---------------------------------------------------------------------------\u001b[0m",
      "\u001b[1;31mKeyboardInterrupt\u001b[0m                         Traceback (most recent call last)",
      "\u001b[1;32m~\\AppData\\Local\\Temp/ipykernel_20064/3430140694.py\u001b[0m in \u001b[0;36m<module>\u001b[1;34m\u001b[0m\n\u001b[0;32m     29\u001b[0m     \u001b[1;31m#1 to frame (end) 100\u001b[0m\u001b[1;33m\u001b[0m\u001b[1;33m\u001b[0m\u001b[1;33m\u001b[0m\u001b[0m\n\u001b[0;32m     30\u001b[0m     \u001b[1;32mwhile\u001b[0m \u001b[1;33m(\u001b[0m\u001b[0mcap\u001b[0m\u001b[1;33m.\u001b[0m\u001b[0misOpened\u001b[0m\u001b[1;33m(\u001b[0m\u001b[1;33m)\u001b[0m\u001b[1;33m)\u001b[0m\u001b[1;33m:\u001b[0m\u001b[1;33m\u001b[0m\u001b[1;33m\u001b[0m\u001b[0m\n\u001b[1;32m---> 31\u001b[1;33m         \u001b[0mret\u001b[0m\u001b[1;33m,\u001b[0m \u001b[0mframe\u001b[0m \u001b[1;33m=\u001b[0m \u001b[0mcap\u001b[0m\u001b[1;33m.\u001b[0m\u001b[0mread\u001b[0m\u001b[1;33m(\u001b[0m\u001b[1;33m)\u001b[0m\u001b[1;33m\u001b[0m\u001b[1;33m\u001b[0m\u001b[0m\n\u001b[0m\u001b[0;32m     32\u001b[0m \u001b[1;31m#         if ret:\u001b[0m\u001b[1;33m\u001b[0m\u001b[1;33m\u001b[0m\u001b[1;33m\u001b[0m\u001b[0m\n\u001b[0;32m     33\u001b[0m \u001b[1;31m#            plt.imshow(frame)\u001b[0m\u001b[1;33m\u001b[0m\u001b[1;33m\u001b[0m\u001b[1;33m\u001b[0m\u001b[0m\n",
      "\u001b[1;31mKeyboardInterrupt\u001b[0m: "
     ]
    }
   ],
   "source": [
    "# From using this code, i am extracting max 200 frames of each phases from video at unit of 20 fps.\n",
    "import os\n",
    "import cv2\n",
    "import pandas as pd\n",
    "import numpy as np\n",
    "import matplotlib.pyplot as plt\n",
    "\n",
    "def create_directory(directory): # Creating directory\n",
    "    '''Create new folder if not exist'''\n",
    "    if not os.path.exists(directory):\n",
    "        os.makedirs(directory)\n",
    "\n",
    "videos_list = [269, 270] # Using video\n",
    "fourcc = cv2.VideoWriter_fourcc(*'XVID') #format export video\n",
    "df_ori = pd.read_csv(r'D:\\Cataract\\cataract-101\\cataract-101/annotations.csv', sep=';') #read csv file dataset\n",
    "for video_id in videos_list:\n",
    "    df = df_ori[df_ori['VideoID']==video_id] #get first video 269\n",
    "    frames_list = df['FrameNo'].to_list() #get frame number column\n",
    "    phase = df['Phase'].to_list() #get phase column\n",
    "    cap = cv2.VideoCapture('D:/Cataract/cataract-101/cataract-101/videos/case_'+str(video_id)+'.mp4') #read video\n",
    "    width = int(cap.get(cv2.CAP_PROP_FRAME_WIDTH)) #get width of each frame in video\n",
    "    height = int(cap.get(cv2.CAP_PROP_FRAME_HEIGHT)) #get height of each frame in video\n",
    "    size = (width, height)\n",
    "    frame_count = 0\n",
    "    start=0\n",
    "    end=0\n",
    "    idx=0\n",
    "    #this code we will extract each phase frames of video, each phase will appear from start to end frame: for ex: phase 1 from frame (start)\n",
    "    #1 to frame (end) 100\n",
    "    while (cap.isOpened()):\n",
    "        ret, frame = cap.read()\n",
    "#         if ret:\n",
    "#            plt.imshow(frame)\n",
    "#            plt.show()\n",
    "            \n",
    "#            print(frame)\n",
    "        #cv2.imshow('Frame',frame)\n",
    " #       cv2.waitKey(0) \n",
    "        if frame_count in frames_list:\n",
    "#             print(\"frame_count\",frame_count) # for phase 1,  frames count  start from 68 till 1043.\n",
    "                                             # extract all frames and store in folder name phase 1 as per 20 fps. \n",
    "            idx = frames_list.index(frame_count) # get the index of frame_count from frame_list\n",
    "#             print(\"idx\",idx)\n",
    "            start = frame_count #start of frame in each phase\n",
    "            create_directory(os.path.join(r'D:\\Cataract\\cataract-101\\cataract-101/dataset_4',str(phase[idx]))) #create folder for each class\n",
    "            #FourCC code and the number of frames per second (FPS). Lastly, the frame size should be passed\n",
    "            # Define the fps to be equal to 20\n",
    "            out = cv2.VideoWriter(os.path.join(r'D:\\Cataract\\cataract-101\\cataract-101/dataset_4/' + str(phase[idx]), str(video_id)+\".avi\"), fourcc,\n",
    "                                  20.0, size) # 20 fbs\n",
    "            if idx<len(frames_list)-1:\n",
    "                end = frames_list[idx+1] #end of phase\n",
    "            else:\n",
    "                end = start+500 # we will get maximum 200 frame\n",
    "                \n",
    "        if start!=0 and frame_count<=end:\n",
    "            out.write(frame) #write frame to saved video\n",
    "#             print(\"frame_count\",frame_count)\n",
    "            \n",
    "        frame_count+=1\n",
    "        \n",
    "        if idx==len(frames_list)-1 and frame_count==end: #break when end frame or enough 500 frames\n",
    "            break\n",
    "\n",
    "    cap.release()\n",
    "    out.release()\n",
    "cv2.destroyAllWindows()\n",
    "\n",
    "\n"
   ]
  },
  {
   "cell_type": "code",
   "execution_count": 3,
   "id": "af28018f",
   "metadata": {},
   "outputs": [
    {
     "name": "stdout",
     "output_type": "stream",
     "text": [
      "      VideoID  FrameNo  Phase\n",
      "0         269       68      1\n",
      "1         269     1043      2\n",
      "2         269     1228      3\n",
      "3         269     2118      4\n",
      "4         269     3478      5\n",
      "...       ...      ...    ...\n",
      "1261      934    12801      2\n",
      "1262      934    13129      8\n",
      "1263      934    13916      9\n",
      "1264      934    15443     10\n",
      "1265      934    16004     10\n",
      "\n",
      "[1266 rows x 3 columns]\n"
     ]
    }
   ],
   "source": [
    "videos_list = [269, 270]\n",
    "fourcc = cv2.VideoWriter_fourcc(*'XVID') #format export video\n",
    "df_ori = pd.read_csv(r'D:\\Cataract\\cataract-101\\cataract-101/annotations.csv', sep=';') #read csv file dataset\n",
    "print(df_ori)"
   ]
  },
  {
   "cell_type": "code",
   "execution_count": null,
   "id": "bf4aaa42",
   "metadata": {},
   "outputs": [],
   "source": []
  },
  {
   "cell_type": "code",
   "execution_count": null,
   "id": "e44cd30d",
   "metadata": {},
   "outputs": [],
   "source": []
  }
 ],
 "metadata": {
  "kernelspec": {
   "display_name": "Python 3 (ipykernel)",
   "language": "python",
   "name": "python3"
  },
  "language_info": {
   "codemirror_mode": {
    "name": "ipython",
    "version": 3
   },
   "file_extension": ".py",
   "mimetype": "text/x-python",
   "name": "python",
   "nbconvert_exporter": "python",
   "pygments_lexer": "ipython3",
   "version": "3.8.12"
  }
 },
 "nbformat": 4,
 "nbformat_minor": 5
}
