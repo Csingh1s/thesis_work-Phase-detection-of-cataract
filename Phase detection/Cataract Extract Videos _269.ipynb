{
 "cells": [
  {
   "cell_type": "code",
   "execution_count": null,
   "id": "3ab3988b",
   "metadata": {},
   "outputs": [],
   "source": [
    "import os\n",
    "import cv2\n",
    "import pandas as pd\n",
    "import numpy as np\n",
    "\n",
    "def create_directory(directory):\n",
    "    if not os.path.exists(directory):\n",
    "        os.makedirs(directory)\n",
    "\n",
    "\n",
    "df = pd.read_csv(r'D:\\Cataract\\cataract-101\\cataract-101/annotations.csv', sep=';')\n",
    "df = df[df['VideoID']==269]\n",
    "frames_list = df['FrameNo'].to_list()\n",
    "phase = df['Phase'].to_list()\n",
    "cap = cv2.VideoCapture(r'C:\\Users\\Kuro\\Downloads\\_downloads_cataract-101\\cataract-101\\videos/case_269.mp4')\n",
    "width = int(cap.get(cv2.CAP_PROP_FRAME_WIDTH))\n",
    "height = int(cap.get(cv2.CAP_PROP_FRAME_HEIGHT))\n",
    "size = (width, height)\n",
    "fourcc = cv2.VideoWriter_fourcc(*'XVID')\n",
    "\n",
    "frame_count = 0\n",
    "start=0\n",
    "end=0\n",
    "idx=0\n",
    "while (cap.isOpened()):\n",
    "    ret, frame = cap.read()\n",
    "    if frame_count in frames_list:\n",
    "        idx = frames_list.index(frame_count)\n",
    "        start = frame_count\n",
    "        create_directory(os.path.join(r'D:\\Cataract\\cataract-101\\cataract-101/annotations.csv',str(phase[idx])))\n",
    "        out = cv2.VideoWriter(os.path.join(r'C:\\Users\\Kuro\\Downloads\\_downloads_cataract-101\\cataract-101/' + str(phase[idx]), \"video.avi\"), fourcc,\n",
    "                              20.0, size)\n",
    "        if idx<len(frames_list)-1:\n",
    "            end = frames_list[idx+1]\n",
    "        else:\n",
    "            end = start+500\n",
    "    if start!=0 and end!=0 and frame_count<=start+500:\n",
    "        out.write(frame)\n",
    "        print(phase[idx])\n",
    "        print(frame_count)\n",
    "    frame_count+=1\n",
    "    if idx==len(frames_list)-1 and frame_count==end:\n",
    "        break\n",
    "\n",
    "cap.release()\n",
    "out.release()\n",
    "cv2.destroyAllWindows()\n"
   ]
  }
 ],
 "metadata": {
  "kernelspec": {
   "display_name": "Python 3 (ipykernel)",
   "language": "python",
   "name": "python3"
  },
  "language_info": {
   "codemirror_mode": {
    "name": "ipython",
    "version": 3
   },
   "file_extension": ".py",
   "mimetype": "text/x-python",
   "name": "python",
   "nbconvert_exporter": "python",
   "pygments_lexer": "ipython3",
   "version": "3.8.12"
  }
 },
 "nbformat": 4,
 "nbformat_minor": 5
}
